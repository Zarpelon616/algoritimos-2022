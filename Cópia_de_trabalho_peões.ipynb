{
  "cells": [
    {
      "cell_type": "markdown",
      "metadata": {
        "id": "view-in-github",
        "colab_type": "text"
      },
      "source": [
        "<a href=\"https://colab.research.google.com/github/Zarpelon616/algoritimos-2022/blob/main/C%C3%B3pia_de_trabalho_pe%C3%B5es.ipynb\" target=\"_parent\"><img src=\"https://colab.research.google.com/assets/colab-badge.svg\" alt=\"Open In Colab\"/></a>"
      ]
    },
    {
      "cell_type": "code",
      "source": [
        "dimensao_linhas=6\n",
        "dimensao_colunas=6\n",
        "tabuleiro=[['  '  for i in range(dimensao_colunas)] for j in range(dimensao_linhas) ]\n",
        "def imprimir_tabuleiro(temp_tabuleiro):\n",
        "  for linha in temp_tabuleiro:\n",
        "    for coluna in linha:\n",
        "      print('| '+coluna+' ',end='')\n",
        "    print('|')\n",
        "\n",
        "def popula_tabuleiro(temp_tabuleiro):\n",
        "  for linha_ind in range(len(temp_tabuleiro)):\n",
        "    if (linha_ind ==0):\n",
        "      for coluna_ind in range(len(temp_tabuleiro[linha_ind])):\n",
        "        temp_tabuleiro[linha_ind][coluna_ind]='P'+ str(coluna_ind)\n",
        "    if (linha_ind ==len(temp_tabuleiro)-1):\n",
        "      for coluna_ind in range(len(temp_tabuleiro[linha_ind])):\n",
        "        temp_tabuleiro[linha_ind][coluna_ind]='B'+ str(coluna_ind)\n",
        "\n",
        "def realizar_jogada(temp_tabuleiro, cor):\n",
        "  print('Jogador atual: '+cor)\n",
        "  jogada_linha = int(input('Qual a linha?'))\n",
        "  jogada_coluna = int(input('Qual a coluna?'))\n",
        "  temporaria = tabuleiro[jogada_linha][jogada_coluna]\n",
        "  tabuleiro[jogada_linha][jogada_coluna] = '  '\n",
        "  if(cor == 'B'):\n",
        "    tabuleiro[jogada_linha-1][jogada_coluna] = temporaria\n",
        "  else: \n",
        "    tabuleiro[jogada_linha+1][jogada_coluna] = temporaria\n",
        "  imprimir_tabuleiro(temp_tabuleiro)\n",
        "  return temp_tabuleiro\n",
        "\n",
        "  \n",
        "def partida(temp_tabuleiro):\n",
        "  is_jogando= True \n",
        "  while is_jogando:\n",
        "    temp_tabuleiro = realizar_jogada(temp_tabuleiro, 'B')\n",
        "    temp_tabuleiro = realizar_jogada(temp_tabuleiro, 'P')\n",
        "\n",
        "\n",
        "\n",
        "popula_tabuleiro(tabuleiro)\n",
        "imprimir_tabuleiro(tabuleiro)\n",
        "partida(tabuleiro)\n"
      ],
      "metadata": {
        "id": "ZESM8YHoWIEF"
      },
      "execution_count": null,
      "outputs": []
    }
  ],
  "metadata": {
    "colab": {
      "name": "Cópia de trabalho peões",
      "provenance": [],
      "collapsed_sections": [],
      "include_colab_link": true
    },
    "kernelspec": {
      "display_name": "Python 3",
      "name": "python3"
    },
    "language_info": {
      "name": "python"
    }
  },
  "nbformat": 4,
  "nbformat_minor": 0
}