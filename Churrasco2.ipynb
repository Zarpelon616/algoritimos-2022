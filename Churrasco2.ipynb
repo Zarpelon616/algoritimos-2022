{
  "nbformat": 4,
  "nbformat_minor": 0,
  "metadata": {
    "colab": {
      "name": "Churrasco2.ipynb",
      "provenance": [],
      "authorship_tag": "ABX9TyMjqkwJMpGfQuWffOglF0e0",
      "include_colab_link": true
    },
    "kernelspec": {
      "name": "python3",
      "display_name": "Python 3"
    },
    "language_info": {
      "name": "python"
    }
  },
  "cells": [
    {
      "cell_type": "markdown",
      "metadata": {
        "id": "view-in-github",
        "colab_type": "text"
      },
      "source": [
        "<a href=\"https://colab.research.google.com/github/Zarpelon616/algoritimos-2022/blob/main/Churrasco2.ipynb\" target=\"_parent\"><img src=\"https://colab.research.google.com/assets/colab-badge.svg\" alt=\"Open In Colab\"/></a>"
      ]
    },
    {
      "cell_type": "code",
      "execution_count": 1,
      "metadata": {
        "colab": {
          "base_uri": "https://localhost:8080/"
        },
        "id": "n_yPU6qcoQoG",
        "outputId": "1604b6bc-6463-4d72-b0a0-2b7f4d3cc8b2"
      },
      "outputs": [
        {
          "output_type": "stream",
          "name": "stdout",
          "text": [
            "Digite o nome da pessoa murilo\n",
            "Vai no churrasco? (S ou N)s\n",
            "Quer adicionar mais pessoas? (S ou N)n\n",
            "Compre  0  kgs de carne e  0  litros de refrigerante\n"
          ]
        }
      ],
      "source": [
        "presentes = []\n",
        "bebem = []\n",
        "veganos = 0\n",
        "\n",
        "controle = True\n",
        "\n",
        "while(controle == True):\n",
        "  nome = input(\"Digite o nome da pessoa \")\n",
        "  vai = input(\"Vai no churrasco? (S ou N)\")\n",
        "  if (vai == \"S\"):\n",
        "    presentes.append(nome)\n",
        "    bebe = input(\"A pessoa bebe? (S ou N) \")\n",
        "    if (bebe == 'S'):\n",
        "      bebem.append(nome)\n",
        "      maior_de_18 = input(\"A pessoa é maior de idade (S ou N)? \")\n",
        "      if(maior_de_18 == \"N\"):\n",
        "        bebem.remove(nome)\n",
        "  \n",
        "  continuar = input(\"Quer adicionar mais pessoas? (S ou N)\")\n",
        "  if(continuar == 'S'):\n",
        "    controle = True\n",
        "  else:\n",
        "    controle = False\n",
        "\n",
        "carne = len(presentes) * 400\n",
        "refrigerante = len(bebem) * 2\n",
        "\n",
        "print(\"Compre \", carne, \" kgs de carne e \", refrigerante, \" litros de refrigerante\")"
      ]
    }
  ]
}