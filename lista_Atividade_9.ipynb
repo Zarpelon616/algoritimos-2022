{
  "nbformat": 4,
  "nbformat_minor": 0,
  "metadata": {
    "colab": {
      "name": "lista Atividade 9.ipynb",
      "provenance": [],
      "authorship_tag": "ABX9TyMTDYh7QQpMdrEnZTA+JpA0",
      "include_colab_link": true
    },
    "kernelspec": {
      "name": "python3",
      "display_name": "Python 3"
    },
    "language_info": {
      "name": "python"
    }
  },
  "cells": [
    {
      "cell_type": "markdown",
      "metadata": {
        "id": "view-in-github",
        "colab_type": "text"
      },
      "source": [
        "<a href=\"https://colab.research.google.com/github/Zarpelon616/algoritimos-2022/blob/main/lista_Atividade_9.ipynb\" target=\"_parent\"><img src=\"https://colab.research.google.com/assets/colab-badge.svg\" alt=\"Open In Colab\"/></a>"
      ]
    },
    {
      "cell_type": "code",
      "execution_count": 1,
      "metadata": {
        "colab": {
          "base_uri": "https://localhost:8080/"
        },
        "id": "ZZM3s-ju6ew4",
        "outputId": "5d591e79-d9e6-400a-868b-489f590d5ee8"
      },
      "outputs": [
        {
          "name": "stdout",
          "output_type": "stream",
          "text": [
            "Digite um número inteiro 10\n",
            "Digite um número inteiro 8\n",
            "Digite um número inteiro 12\n",
            "Digite um número inteiro 11\n",
            "Digite um número inteiro 18\n",
            "Digite um número inteiro 21\n",
            "Digite um número inteiro 23\n",
            "Digite um número inteiro 15\n",
            "Digite um número inteiro 25\n"
          ]
        }
      ],
      "source": [
        "numeros = []\n",
        "\n",
        "for i in range(9):\n",
        "  num = input(\"Digite um número inteiro \")\n",
        "  numeros.append(int(num))"
      ]
    },
    {
      "cell_type": "code",
      "source": [
        "def primo(n):\n",
        "    for val in range(2,n):\n",
        "        if n % val == 0:\n",
        "            return False\n",
        "\n",
        "    return True\n",
        "\n",
        "numeros = []\n",
        "primos = []\n",
        "posicoes = []\n",
        "\n",
        "for i in range(0,9):\n",
        "    numero  = int(input(\"Digite o número\"))\n",
        "    numeros.append(numero)\n",
        "    if (primo(numero)):\n",
        "        primos.append(numero)\n",
        "        posicoes.append(i)\n",
        "\n",
        "for j in range(0,len(primos)):\n",
        "    print(\"O número\", primos[j], ' está na posição', posicoes[j])\n",
        "    \n",
        "for primo in primos:\n",
        "    posicao = numeros.index(primo)\n",
        "    print(\"O primo \", primo, \"está na posição \", posicao)\n"
      ],
      "metadata": {
        "id": "L91QZATE6jtM"
      },
      "execution_count": null,
      "outputs": []
    },
    {
      "cell_type": "code",
      "source": [
        "def primo(n):\n",
        "    for val in range(2,n):\n",
        "        if n % val == 0:\n",
        "            return False\n",
        "    return True\n",
        "\n",
        "numeros = [7,5,3,2,6,7,8,9,10]\n",
        "primos = []\n",
        "\n",
        "for numero in numeros:\n",
        "  if (primo(numero) == True):\n",
        "    primos.append(numero)\n",
        "\n",
        "for primo in primos:\n",
        "  print(\"O número \", primo, \" é primo\")\n",
        "  posicao = numeros.index(primo)\n",
        "  print(\"Ele está na posição \", posicao)\n"
      ],
      "metadata": {
        "id": "8Kg7TgXf6jwi"
      },
      "execution_count": null,
      "outputs": []
    },
    {
      "cell_type": "markdown",
      "source": [
        "ATIVIDADE 2"
      ],
      "metadata": {
        "id": "7HyKLgs77M92"
      }
    },
    {
      "cell_type": "code",
      "source": [
        "salario_vendedor = 545\n",
        "porcentagem = 5\n",
        "objetos = [\"Copo\",\"Faca\",\"Tesoura\",\"Bombril\",\"PC\",\"Mouse\",\"Canivete\",\"Coca\",\"Pamonha\",\"Polenta\"]\n",
        "valor_unitario = []\n",
        "quantidade_vendida = []\n",
        "\n",
        "for objeto in objetos:\n",
        "  print(\"ITEM: \", objeto)\n",
        "  vlr = float(input(\"Qual o valor unitário?\"))\n",
        "  valor_unitario.append(vlr)\n",
        "  qtd = int(input(\"Qtos foram vendidos\"))\n",
        "  quantidade_vendida.append(qtd)\n",
        "\n",
        "print(\"RElatório\")\n",
        "print(\"Objeto | Qtd | Vlr Unitário | Valor Total \")\n",
        "for i in (range(0,len(objetos))):\n",
        "  print(objetos[i], \" | \", valor_unitario[i], \" | \", quantidade_vendida[i], \" | \", quantidade_vendida[i] * valor_unitario[i1])"
      ],
      "metadata": {
        "id": "iqnfJrXo7QHb"
      },
      "execution_count": null,
      "outputs": []
    }
  ]
}