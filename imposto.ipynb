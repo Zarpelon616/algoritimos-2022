{
  "nbformat": 4,
  "nbformat_minor": 0,
  "metadata": {
    "colab": {
      "name": "imposto.ipynb",
      "provenance": [],
      "authorship_tag": "ABX9TyNCkFnscBY3/LwfnEQPu12I",
      "include_colab_link": true
    },
    "kernelspec": {
      "name": "python3",
      "display_name": "Python 3"
    },
    "language_info": {
      "name": "python"
    }
  },
  "cells": [
    {
      "cell_type": "markdown",
      "metadata": {
        "id": "view-in-github",
        "colab_type": "text"
      },
      "source": [
        "<a href=\"https://colab.research.google.com/github/Zarpelon616/algoritimos-2022/blob/main/imposto.ipynb\" target=\"_parent\"><img src=\"https://colab.research.google.com/assets/colab-badge.svg\" alt=\"Open In Colab\"/></a>"
      ]
    },
    {
      "cell_type": "code",
      "execution_count": 1,
      "metadata": {
        "colab": {
          "base_uri": "https://localhost:8080/"
        },
        "id": "RzOsLxJFnfW4",
        "outputId": "bc52fd47-df26-4b9c-fb3f-90c2eafcd7fd"
      },
      "outputs": [
        {
          "output_type": "stream",
          "name": "stdout",
          "text": [
            "Qual é o seu nome?muri\n",
            "Olá  muri\n",
            "Digite o seu salário: \n",
            "10\n",
            "2.5\n"
          ]
        }
      ],
      "source": [
        "nome = input(\"Qual é o seu nome?\")\n",
        "print(\"Olá \", nome)\n",
        "\n",
        "salario = input(\"Digite o seu salário: \\n\")\n",
        "imposto = float( salario ) * 0.25\n",
        "print(imposto)\n",
        "\n"
      ]
    }
  ]
}