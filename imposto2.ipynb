{
  "nbformat": 4,
  "nbformat_minor": 0,
  "metadata": {
    "colab": {
      "name": "imposto2.ipynb",
      "provenance": [],
      "authorship_tag": "ABX9TyMoBrjUyqC8RskzgM9JQhaL",
      "include_colab_link": true
    },
    "kernelspec": {
      "name": "python3",
      "display_name": "Python 3"
    },
    "language_info": {
      "name": "python"
    }
  },
  "cells": [
    {
      "cell_type": "markdown",
      "metadata": {
        "id": "view-in-github",
        "colab_type": "text"
      },
      "source": [
        "<a href=\"https://colab.research.google.com/github/Zarpelon616/algoritimos-2022/blob/main/imposto2.ipynb\" target=\"_parent\"><img src=\"https://colab.research.google.com/assets/colab-badge.svg\" alt=\"Open In Colab\"/></a>"
      ]
    },
    {
      "cell_type": "code",
      "execution_count": 1,
      "metadata": {
        "colab": {
          "base_uri": "https://localhost:8080/"
        },
        "id": "3ZTC1UnCn0Me",
        "outputId": "7230d6d1-d4eb-46e9-f843-8a446a796164"
      },
      "outputs": [
        {
          "output_type": "stream",
          "name": "stdout",
          "text": [
            "Qual o seu rendimento anual?\n",
            "1000000\n",
            "Você vai pagar 25%\n",
            "Você vai pagar  250000.0\n"
          ]
        }
      ],
      "source": [
        "print(\"Qual o seu rendimento anual?\")\n",
        "\n",
        "rendimento = float( input() )\n",
        "\n",
        "if (rendimento <= 28000 ):\n",
        "  print(\"Você está isento\")\n",
        "  porcentagem = 0\n",
        "elif (rendimento > 28000 and rendimento <= 35000):\n",
        "  print (\"Você vai pagar 10%\")\n",
        "  porcentagem = 10\n",
        "else:\n",
        "  print(\"Você vai pagar 25%\")\n",
        "  porcentagem = 25\n",
        "\n",
        "if (porcentagem > 0):\n",
        "  imposto_pagar = rendimento * (porcentagem / 100)\n",
        "  print(\"Você vai pagar \",imposto_pagar)"
      ]
    }
  ]
}