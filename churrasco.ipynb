{
  "nbformat": 4,
  "nbformat_minor": 0,
  "metadata": {
    "colab": {
      "name": "churrasco.ipynb",
      "provenance": [],
      "authorship_tag": "ABX9TyMcWMR5KjbLd2nEq26Zuvnv",
      "include_colab_link": true
    },
    "kernelspec": {
      "name": "python3",
      "display_name": "Python 3"
    },
    "language_info": {
      "name": "python"
    }
  },
  "cells": [
    {
      "cell_type": "markdown",
      "metadata": {
        "id": "view-in-github",
        "colab_type": "text"
      },
      "source": [
        "<a href=\"https://colab.research.google.com/github/Zarpelon616/algoritimos-2022/blob/main/churrasco.ipynb\" target=\"_parent\"><img src=\"https://colab.research.google.com/assets/colab-badge.svg\" alt=\"Open In Colab\"/></a>"
      ]
    },
    {
      "cell_type": "code",
      "execution_count": 82,
      "metadata": {
        "colab": {
          "base_uri": "https://localhost:8080/"
        },
        "id": "wi2t_f2oXNoT",
        "outputId": "47d69261-45cd-43d0-f936-aa7dd9129ae2"
      },
      "outputs": [
        {
          "output_type": "execute_result",
          "data": {
            "text/plain": [
              "['murilo', 'matheus']"
            ]
          },
          "metadata": {},
          "execution_count": 82
        }
      ],
      "source": [
        "presentes = []\n",
        "\n",
        "presentes.append(\"joão\")\n",
        "\n",
        "presentes.append(\"matheus\")\n",
        "\n",
        "presentes[-2] = \"murilo\"\n",
        "\n",
        "presentes\n"
      ]
    }
  ]
}