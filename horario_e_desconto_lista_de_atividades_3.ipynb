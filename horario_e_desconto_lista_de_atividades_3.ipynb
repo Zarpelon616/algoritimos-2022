{
  "nbformat": 4,
  "nbformat_minor": 0,
  "metadata": {
    "colab": {
      "name": " horario e desconto. lista de atividades 3",
      "provenance": [],
      "collapsed_sections": [],
      "authorship_tag": "ABX9TyOBDCE1jTNyCxNAEjkmxK9u",
      "include_colab_link": true
    },
    "kernelspec": {
      "name": "python3",
      "display_name": "Python 3"
    },
    "language_info": {
      "name": "python"
    }
  },
  "cells": [
    {
      "cell_type": "markdown",
      "metadata": {
        "id": "view-in-github",
        "colab_type": "text"
      },
      "source": [
        "<a href=\"https://colab.research.google.com/github/Zarpelon616/algoritimos-2022/blob/main/horario_e_desconto_lista_de_atividades_3.ipynb\" target=\"_parent\"><img src=\"https://colab.research.google.com/assets/colab-badge.svg\" alt=\"Open In Colab\"/></a>"
      ]
    },
    {
      "cell_type": "code",
      "source": [
        "horario_de_inicio = int(input('horario de inicio'))\n",
        "minuto_de_inicio = int(input('minuto de inicio'))\n",
        "valor_minuto = 1\n",
        "\n",
        "horario_que_terminou = int(input('horario que terminou'))\n",
        "minuto_que_terminou = int(input('minuto que terminou'))\n",
        "\n",
        "fim = horario_que_terminou * 60 + minuto_que_terminou\n",
        "inicio = horario_de_inicio * 60 + minuto_de_inicio\n",
        "\n",
        "diferença_de_minutos = fim - inicio\n",
        "\n",
        "print(f'a ligação durou {diferença_de_minutos} minutos')\n",
        "\n",
        "desconto = 0\n",
        "if (horario_de_inicio >= 0 and horario_de_inicio <= 9):\n",
        "  if (horario_de_inicio> 9 and horario_que_terminou <= 18):\n",
        "    desc = fim - inicio\n",
        "    valor_desc = desc / 2\n",
        "    print('Minutos com desconto: ', desc)\n",
        "    print('Valor cobrado: ', valor_desc)\n",
        "  else:\n",
        "    normal = valor_minuto * (fim - inicio)\n",
        "    Adesc = 0\n",
        "    print('Minutos com desconto: ', Adesc)\n",
        "    valor_Adesc = Adesc * (valor_minuto * 0,3)\n",
        "    print('Valor com desconto: ', valor_Adesc)\n",
        "    print('Valor sem desconto: ', normal)\n",
        "    print('Total da ligação: ', normal)\n",
        "elif (horario_de_inicio >18 and horario_de_inicio <=21):\n",
        "  desconto = 30\n",
        "elif0 (horario_de_inicio >21 and horario_de_inicio < 24):\n",
        "  desconto = 40\n"
      ],
      "metadata": {
        "id": "WNExvFKXQa94"
      },
      "execution_count": null,
      "outputs": []
    }
  ]
}