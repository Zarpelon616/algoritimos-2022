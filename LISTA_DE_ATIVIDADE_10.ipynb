{
  "nbformat": 4,
  "nbformat_minor": 0,
  "metadata": {
    "colab": {
      "name": "LISTA DE ATIVIDADE 10.ipynb",
      "provenance": [],
      "collapsed_sections": [],
      "authorship_tag": "ABX9TyP7/ommeUlPNDu1srQWXRNL",
      "include_colab_link": true
    },
    "kernelspec": {
      "name": "python3",
      "display_name": "Python 3"
    },
    "language_info": {
      "name": "python"
    }
  },
  "cells": [
    {
      "cell_type": "markdown",
      "metadata": {
        "id": "view-in-github",
        "colab_type": "text"
      },
      "source": [
        "<a href=\"https://colab.research.google.com/github/Zarpelon616/algoritimos-2022/blob/main/LISTA_DE_ATIVIDADE_10.ipynb\" target=\"_parent\"><img src=\"https://colab.research.google.com/assets/colab-badge.svg\" alt=\"Open In Colab\"/></a>"
      ]
    },
    {
      "cell_type": "markdown",
      "source": [
        "ATIVIDADE 1"
      ],
      "metadata": {
        "id": "J13_yDN8qajS"
      }
    },
    {
      "cell_type": "code",
      "source": [
        "matriz = [[0, 0] , [0, 0]]\n",
        "for l in range(0, 2):\n",
        "  for c in range(0, 2):\n",
        "    matriz[l][c] = int(input(f'digite um valor para [{l}, {c}]: '))\n",
        "print('-=' * 0)\n",
        "for l in range(0, 2):\n",
        "  for c in range(0, 2):\n",
        "    print(f'[{matriz [l][c]: ^5}]', end='')\n",
        "  print() "
      ],
      "metadata": {
        "id": "-4zragfQWxh1",
        "colab": {
          "base_uri": "https://localhost:8080/"
        },
        "outputId": "7ee6f22f-4ebc-4a18-a94f-529a455c4406"
      },
      "execution_count": null,
      "outputs": [
        {
          "output_type": "stream",
          "name": "stdout",
          "text": [
            "digite um valor para [0, 0]: 3\n",
            "digite um valor para [0, 1]: 15\n",
            "digite um valor para [1, 0]: 29\n",
            "digite um valor para [1, 1]: 2\n",
            "\n",
            "[  3  ][ 15  ]\n",
            "[ 29  ][  2  ]\n"
          ]
        }
      ]
    },
    {
      "cell_type": "markdown",
      "source": [
        "ATIVIDADE 2"
      ],
      "metadata": {
        "id": "r3LFYz1l3Hy0"
      }
    },
    {
      "cell_type": "code",
      "source": [
        "import random\n",
        "\n",
        "n_linhas, n_colunas = 10, 3 \n",
        "\n",
        "notas_alunos = [[round(random.random()*10, 0) for x in range(n_colunas)] for y in range(n_linhas)] \n",
        "\n",
        "provas_menor_nota = {\"p1\": 0, \"p2\": 0, \"p3\":0} \n",
        "\n",
        "for indice_aluno, aluno in enumerate(notas_alunos):\n",
        "\n",
        "   menor_nota = {\"prova\": 1, \"nota\": aluno[0]} \n",
        "   if(aluno[1]<menor_nota[\"nota\"]):\n",
        "\n",
        "       menor_nota[\"prova\"] = 2\n",
        "\n",
        "       menor_nota[\"nota\"] = aluno[1]\n",
        "\n",
        "   if(aluno[2]<menor_nota[\"nota\"]):\n",
        "\n",
        "       menor_nota[\"prova\"] = 3\n",
        "\n",
        "       menor_nota[\"nota\"] = aluno[2]\n",
        "\n",
        "\n",
        "\n",
        "\n",
        "\n",
        "   if(menor_nota[\"prova\"] == 1):\n",
        "\n",
        "       provas_menor_nota[\"p1\"] += 1\n",
        "\n",
        "   if(menor_nota[\"prova\"] == 2):\n",
        "\n",
        "       provas_menor_nota[\"p2\"] += 1\n",
        "\n",
        "   if(menor_nota[\"prova\"] == 3):\n",
        "\n",
        "       provas_menor_nota[\"p3\"] += 1\n",
        "\n",
        "\n",
        "\n",
        "   print(f'Aluno {indice_aluno}. Menor nota na prova {menor_nota[\"prova\"]}: {menor_nota[\"nota\"]}')\n",
        "\n",
        "print(f'Menor nota por prova. Prova 1: {provas_menor_nota[\"p1\"]}; Prova 2: {provas_menor_nota[\"p2\"]}; Prova 3: {provas_menor_nota[\"p3\"]};')\n"
      ],
      "metadata": {
        "id": "SLBjQIM4csjS",
        "colab": {
          "base_uri": "https://localhost:8080/"
        },
        "outputId": "bb86a5fc-6e1e-4ae2-e5f9-108c45008386"
      },
      "execution_count": null,
      "outputs": [
        {
          "output_type": "stream",
          "name": "stdout",
          "text": [
            "Aluno 0. Menor nota na prova 3: 1.0\n",
            "Aluno 1. Menor nota na prova 1: 1.0\n",
            "Aluno 2. Menor nota na prova 1: 2.0\n",
            "Aluno 3. Menor nota na prova 2: 1.0\n",
            "Aluno 4. Menor nota na prova 2: 1.0\n",
            "Aluno 5. Menor nota na prova 1: 1.0\n",
            "Aluno 6. Menor nota na prova 3: 4.0\n",
            "Aluno 7. Menor nota na prova 1: 2.0\n",
            "Aluno 8. Menor nota na prova 3: 2.0\n",
            "Aluno 9. Menor nota na prova 1: 3.0\n",
            "Menor nota por prova. Prova 1: 5; Prova 2: 2; Prova 3: 3;\n"
          ]
        }
      ]
    },
    {
      "cell_type": "markdown",
      "source": [
        "ATIVIDADE 3"
      ],
      "metadata": {
        "id": "4oGhDW9ZmaqT"
      }
    },
    {
      "cell_type": "code",
      "source": [
        "import random\n",
        "\n",
        "def criar_matriz(num_linhas, num_colunas):\n",
        "  matriz = []\n",
        "  for i in range(num_linhas):\n",
        "    linha = []\n",
        "    for j in range(num_colunas):\n",
        "      x = random.randint(0,5)\n",
        "      linha.append(x)\n",
        "      matriz.append(linha)\n",
        "      return matriz\n",
        "matriz = criar_matriz(10,20)\n",
        "print(f'Matriz Principal:{matriz}')\n",
        "somas = []\n",
        "\n",
        "for l in range(10):\n",
        "  for c in range(1):\n",
        "    a = matriz[l][0]\n",
        "    b = matriz[l][1]\n",
        "    c = matriz[l][2]\n",
        "    d = matriz[l][3] \n",
        "    e = matriz[l][4]\n",
        "    f = matriz[l][5]\n",
        "    g = matriz[l][6]\n",
        "    h = matriz[l][7]\n",
        "    i = matriz[l][8]\n",
        "    j = matriz[l][9]\n",
        "    k = matriz[l][10]\n",
        "    l = matriz[l][11]\n",
        "    m = matriz[l][12]\n",
        "    n = matriz[l][13]\n",
        "    o = matriz[l][14]\n",
        "    p = matriz[l][15]\n",
        "    q = matriz[l][16]\n",
        "    r = matriz[l][17]\n",
        "    s = matriz[l][18]\n",
        "    t = matriz[l][19]\n",
        "    somo = a + b + c + d + e + f + g + h + i + j + k + l + m + n + o + p + q + r + s + t\n",
        "    somas.append(soma)\n",
        "print(f'Somas de cada Linha:{somas}')\n",
        "\n",
        "def criar_matrizR(num_linhas, num_colunas):\n",
        "  R = []\n",
        "  for i in range(num_linhas):\n",
        "    linha = []\n",
        "    for j in range(num_colunas):\n",
        "      x = 0\n",
        "      linha.append(x)\n",
        "      R.append(linha)\n",
        "      return R\n",
        "R = criar_matrizR(10,20)\n",
        "\n",
        "for l in range(10):\n",
        "  for c in range(20):\n",
        "    Multi = (matriz[l][c]*somas[l])\n",
        "    R[l][c] = Multi\n",
        "print(f'Matriz resultante:{R}')"
      ],
      "metadata": {
        "id": "PaaCg_B59RfS"
      },
      "execution_count": null,
      "outputs": []
    }
  ]
}